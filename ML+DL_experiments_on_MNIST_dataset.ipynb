{
  "nbformat": 4,
  "nbformat_minor": 0,
  "metadata": {
    "colab": {
      "provenance": [],
      "gpuType": "T4"
    },
    "kernelspec": {
      "name": "python3",
      "display_name": "Python 3"
    },
    "language_info": {
      "name": "python"
    },
    "accelerator": "GPU"
  },
  "cells": [
    {
      "cell_type": "markdown",
      "source": [
        "# 📝 **Objective of this Notebook**\n",
        "\n",
        "The main goal of this notebook is to get more comfortable with using **Machine Learning (ML)** and especially **Deep Learning (DL)** algorithms for classification tasks. In this case, we will tackle the **MNIST dataset**, which contains handwritten digits (0-9), corresponding to 10 distinct classes.\n",
        "\n",
        "---\n",
        "\n",
        "# ⚙️ **Approach**\n",
        "\n",
        "We will experiment with the following models:\n",
        "\n",
        "1. **Logistic Regression** (Linear Model)  \n",
        "2. **Random Forest** (Non-Linear Model)\n",
        "\n",
        "Afterward, we explore deep learning approaches using basic **Neural Networks** architectures:\n",
        "\n",
        "- **Fully Connected Neural Network (FCNN)**\n",
        "- **Convolutional Neural Network (CNN)**\n",
        "\n",
        "---\n",
        "\n",
        "# 📊 **Model Comparison**\n",
        "\n",
        "We begin by comparing the **4 models** using key performance metrics:\n",
        "\n",
        "- **Accuracy**\n",
        "- **Precision**\n",
        "- **Recall**\n",
        "- **F1-Score**\n",
        "\n",
        "These metrics are particularly useful for evaluating multiclass classification tasks.\n",
        "\n",
        "---\n",
        "\n",
        "# 🔧 **Enhancements and Advanced Techniques**\n",
        "\n",
        "Next, we explore a more complex **CNN architecture** with regularization techniques such as:\n",
        "\n",
        "- **Dropout Layer**  \n",
        "- **Label Smoothing** (via `nn.CrossEntropy()` loss function)\n",
        "\n",
        "---\n",
        "\n",
        "# ⚡ **Learning Rate Tuning**\n",
        "\n",
        "Finally, we experiment with fine-tuning the **learning rate** and observe the loss function's behavior as we adjust it.\n"
      ],
      "metadata": {
        "id": "RydJoQydA-n-"
      }
    },
    {
      "cell_type": "markdown",
      "source": [
        "**Import Libraries**"
      ],
      "metadata": {
        "id": "gjkIM4Hs3_tv"
      }
    },
    {
      "cell_type": "code",
      "execution_count": 22,
      "metadata": {
        "colab": {
          "base_uri": "https://localhost:8080/"
        },
        "id": "Cw_KfHUd3pf7",
        "outputId": "e209244e-ac53-4429-b58a-8bf875d59770"
      },
      "outputs": [
        {
          "output_type": "stream",
          "name": "stdout",
          "text": [
            "Using device: cuda\n"
          ]
        }
      ],
      "source": [
        "# Import necessary libraries\n",
        "import torch\n",
        "import torch.nn as nn\n",
        "import torch.optim as optim\n",
        "import torchvision\n",
        "import torchvision.transforms as transforms\n",
        "from torch.utils.data import DataLoader\n",
        "\n",
        "# For Logistic Regression & Random Forest\n",
        "from sklearn.linear_model import LogisticRegression\n",
        "from sklearn.ensemble import RandomForestClassifier\n",
        "from sklearn.metrics import accuracy_score, precision_score, recall_score, f1_score, classification_report\n",
        "\n",
        "# Visualization\n",
        "import matplotlib.pyplot as plt\n",
        "import seaborn as sns\n",
        "import numpy as np\n",
        "import pandas as pd\n",
        "\n",
        "# Set random seeds for reproducibility\n",
        "torch.manual_seed(42)\n",
        "np.random.seed(42)\n",
        "\n",
        "# Check GPU availability\n",
        "device = torch.device('cuda' if torch.cuda.is_available() else 'cpu')\n",
        "print(f'Using device: {device}')\n"
      ]
    },
    {
      "cell_type": "markdown",
      "source": [
        "**Load and Visualize MNIST Dataset**"
      ],
      "metadata": {
        "id": "0rp2el1K4JWm"
      }
    },
    {
      "cell_type": "code",
      "source": [
        "# Transform for normalization and tensor conversion\n",
        "transform = transforms.Compose([\n",
        "    transforms.ToTensor(),\n",
        "    transforms.Normalize((0.5,), (0.5,))\n",
        "])\n",
        "\n",
        "# Load MNIST dataset\n",
        "train_dataset = torchvision.datasets.MNIST(root='./data', train=True, transform=transform, download=True)\n",
        "test_dataset = torchvision.datasets.MNIST(root='./data', train=False, transform=transform, download=True)\n",
        "\n",
        "# Data loaders\n",
        "train_loader = DataLoader(train_dataset, batch_size=64, shuffle=True)\n",
        "test_loader = DataLoader(test_dataset, batch_size=64, shuffle=False)\n",
        "\n",
        "# Visualize sample images\n",
        "examples = iter(train_loader)  # Create an iterator from the DataLoader\n",
        "images, labels = next(examples)  # Use Python's `next()` function to get the first batch\n",
        "\n",
        "# Plot the images\n",
        "plt.figure(figsize=(10, 5))\n",
        "for i in range(10):\n",
        "    plt.subplot(2, 5, i + 1)\n",
        "    plt.imshow(images[i][0].cpu().numpy(), cmap='gray')  # Convert tensor to numpy\n",
        "    plt.title(f'Label: {labels[i].item()}')  # Convert label tensor to integer\n",
        "    plt.axis('off')\n",
        "plt.tight_layout()\n",
        "plt.show()"
      ],
      "metadata": {
        "colab": {
          "base_uri": "https://localhost:8080/",
          "height": 473
        },
        "id": "YoKLV-5U4ERB",
        "outputId": "c8fd5a8b-22c2-4dd2-f255-d841ebcb2d6c"
      },
      "execution_count": 23,
      "outputs": [
        {
          "output_type": "display_data",
          "data": {
            "text/plain": [
              "<Figure size 1000x500 with 10 Axes>"
            ],
            "image/png": "[encoded data removed]"
          },
          "metadata": {}
        }
      ]
    },
    {
      "cell_type": "markdown",
      "source": [
        "**Prepare Data for Logistic Regression**"
      ],
      "metadata": {
        "id": "jnf8V8HY4uAy"
      }
    },
    {
      "cell_type": "code",
      "source": [
        "# Flatten images for Logistic Regression\n",
        "X_train_lr = train_dataset.data.numpy().reshape(train_dataset.data.shape[0], -1) / 255.0\n",
        "y_train_lr = train_dataset.targets.numpy()\n",
        "X_test_lr = test_dataset.data.numpy().reshape(test_dataset.data.shape[0], -1) / 255.0\n",
        "y_test_lr = test_dataset.targets.numpy()\n",
        "\n",
        "# Confirm preprocessing\n",
        "print(f\"Shape of flattened training data: {X_train_lr.shape}\")\n",
        "print(f\"Shape of flattened test data: {X_test_lr.shape}\")"
      ],
      "metadata": {
        "colab": {
          "base_uri": "https://localhost:8080/"
        },
        "id": "P6CmayUJ4MAw",
        "outputId": "40e3b03a-a22e-4fee-fa44-a6399b13972f"
      },
      "execution_count": 24,
      "outputs": [
        {
          "output_type": "stream",
          "name": "stdout",
          "text": [
            "Shape of flattened training data: (60000, 784)\n",
            "Shape of flattened test data: (10000, 784)\n"
          ]
        }
      ]
    },
    {
      "cell_type": "markdown",
      "source": [
        "**Prepare Data for Random Forest**"
      ],
      "metadata": {
        "id": "ZH3hUA-g4zfX"
      }
    },
    {
      "cell_type": "code",
      "source": [
        "# Flatten images for Random Forest\n",
        "X_train_rf = train_dataset.data.numpy().reshape(train_dataset.data.shape[0], -1)\n",
        "y_train_rf = train_dataset.targets.numpy()\n",
        "X_test_rf = test_dataset.data.numpy().reshape(test_dataset.data.shape[0], -1)\n",
        "y_test_rf = test_dataset.targets.numpy()\n",
        "\n",
        "# Display shapes\n",
        "print(f\"Shape of flattened training data: {X_train_rf.shape}\")\n",
        "print(f\"Shape of flattened test data: {X_test_rf.shape}\")"
      ],
      "metadata": {
        "colab": {
          "base_uri": "https://localhost:8080/"
        },
        "id": "sZbew2vm4w8w",
        "outputId": "dd3378b2-3a49-40c1-905e-24f5227fe8b1"
      },
      "execution_count": 25,
      "outputs": [
        {
          "output_type": "stream",
          "name": "stdout",
          "text": [
            "Shape of flattened training data: (60000, 784)\n",
            "Shape of flattened test data: (10000, 784)\n"
          ]
        }
      ]
    },
    {
      "cell_type": "markdown",
      "source": [
        "**Train and Evaluate Logistic Regression**"
      ],
      "metadata": {
        "id": "LjHfDP4v4_is"
      }
    },
    {
      "cell_type": "code",
      "source": [
        "# Train Logistic Regression\n",
        "lr_model = LogisticRegression(max_iter=1000, solver='lbfgs', random_state=42)\n",
        "lr_model.fit(X_train_lr, y_train_lr)\n",
        "\n",
        "# Predictions and Evaluation\n",
        "y_pred_lr = lr_model.predict(X_test_lr)\n",
        "\n",
        "# Metrics\n",
        "lr_metrics = {\n",
        "    'Accuracy': accuracy_score(y_test_lr, y_pred_lr),\n",
        "    'Precision': precision_score(y_test_lr, y_pred_lr, average='weighted'),\n",
        "    'Recall': recall_score(y_test_lr, y_pred_lr, average='weighted'),\n",
        "    'F1-Score': f1_score(y_test_lr, y_pred_lr, average='weighted')\n",
        "}\n",
        "print(f\"Logistic Regression Metrics:\\n{lr_metrics}\")"
      ],
      "metadata": {
        "colab": {
          "base_uri": "https://localhost:8080/"
        },
        "id": "CZNm-zvZ45Ub",
        "outputId": "8d4280a9-238d-4029-b243-b133d2861603"
      },
      "execution_count": 26,
      "outputs": [
        {
          "output_type": "stream",
          "name": "stdout",
          "text": [
            "Logistic Regression Metrics:\n",
            "{'Accuracy': 0.9258, 'Precision': 0.9255867938696886, 'Recall': 0.9258, 'F1-Score': 0.9256219546738039}\n"
          ]
        }
      ]
    },
    {
      "cell_type": "markdown",
      "source": [
        "**Train and Evaluate Random Forest**"
      ],
      "metadata": {
        "id": "zcO0I47O5Wjj"
      }
    },
    {
      "cell_type": "code",
      "source": [
        "# Train Random Forest Classifier\n",
        "rf_model = RandomForestClassifier(n_estimators=100, random_state=42)\n",
        "rf_model.fit(X_train_rf, y_train_rf)\n",
        "\n",
        "# Predictions and Evaluation\n",
        "y_pred_rf = rf_model.predict(X_test_rf)\n",
        "\n",
        "# Metrics\n",
        "rf_metrics = {\n",
        "    'Accuracy': accuracy_score(y_test_rf, y_pred_rf),\n",
        "    'Precision': precision_score(y_test_rf, y_pred_rf, average='weighted'),\n",
        "    'Recall': recall_score(y_test_rf, y_pred_rf, average='weighted'),\n",
        "    'F1-Score': f1_score(y_test_rf, y_pred_rf, average='weighted')\n",
        "}\n",
        "print(f\"Random Forest Metrics:\\n{rf_metrics}\")"
      ],
      "metadata": {
        "colab": {
          "base_uri": "https://localhost:8080/"
        },
        "id": "Ghg5upbI5Mvs",
        "outputId": "4293a3be-5635-4a4a-f800-ac90e77f3d46"
      },
      "execution_count": 27,
      "outputs": [
        {
          "output_type": "stream",
          "name": "stdout",
          "text": [
            "Random Forest Metrics:\n",
            "{'Accuracy': 0.9705, 'Precision': 0.970495753186874, 'Recall': 0.9705, 'F1-Score': 0.9704722695987773}\n"
          ]
        }
      ]
    },
    {
      "cell_type": "markdown",
      "source": [
        "**Define Fully Connected Neural Network: FCNN**"
      ],
      "metadata": {
        "id": "UWcDZYe25c6B"
      }
    },
    {
      "cell_type": "code",
      "source": [
        "class FullyConnectedNN(nn.Module):\n",
        "    def __init__(self):\n",
        "        super(FullyConnectedNN, self).__init__()\n",
        "        self.fc = nn.Sequential(\n",
        "            nn.Flatten(),\n",
        "            nn.Linear(28*28, 128),\n",
        "            nn.ReLU(),\n",
        "            nn.Linear(128, 64),\n",
        "            nn.ReLU(),\n",
        "            nn.Linear(64, 10)\n",
        "        )\n",
        "\n",
        "    def forward(self, x):\n",
        "        return self.fc(x)"
      ],
      "metadata": {
        "id": "RYq0O9TW5Zfd"
      },
      "execution_count": 28,
      "outputs": []
    },
    {
      "cell_type": "markdown",
      "source": [
        "**Define Simple CNN**"
      ],
      "metadata": {
        "id": "jTDh4_fD5ofZ"
      }
    },
    {
      "cell_type": "code",
      "source": [
        "class simpleCNN(nn.Module):\n",
        "    def __init__(self):\n",
        "        super(simpleCNN, self).__init__()\n",
        "        self.cnn = nn.Sequential(\n",
        "            nn.Conv2d(1, 32, kernel_size=3),\n",
        "            nn.ReLU(),\n",
        "            nn.MaxPool2d(2),\n",
        "            nn.Flatten(),\n",
        "            nn.Linear(32*13*13, 64),\n",
        "            nn.ReLU(),\n",
        "            nn.Linear(64, 10)\n",
        "        )\n",
        "\n",
        "    def forward(self, x):\n",
        "        return self.cnn(x)"
      ],
      "metadata": {
        "id": "b9y-6ZHT5ktc"
      },
      "execution_count": 29,
      "outputs": []
    },
    {
      "cell_type": "markdown",
      "source": [
        "**Training and Evaluation Function for PyTorch Models**"
      ],
      "metadata": {
        "id": "tCIoGDNP5xOw"
      }
    },
    {
      "cell_type": "code",
      "source": [
        "def train_model(model, train_loader, test_loader, epochs, lr):\n",
        "    model = model.to(device)\n",
        "    criterion = nn.CrossEntropyLoss()\n",
        "    optimizer = optim.Adam(model.parameters(), lr=lr)\n",
        "\n",
        "    for epoch in range(epochs):\n",
        "        model.train()\n",
        "        for images, labels in train_loader:\n",
        "            images, labels = images.to(device), labels.to(device)\n",
        "\n",
        "            # Forward pass\n",
        "            outputs = model(images)\n",
        "            loss = criterion(outputs, labels)\n",
        "\n",
        "            # Backward pass\n",
        "            optimizer.zero_grad()\n",
        "            loss.backward()\n",
        "            optimizer.step()\n",
        "\n",
        "        print(f\"Epoch {epoch+1}/{epochs}, Loss: {loss.item():.4f}\")\n",
        "\n",
        "    # Evaluate the model\n",
        "    model.eval()\n",
        "    y_true, y_pred = [], []\n",
        "    with torch.no_grad():\n",
        "        for images, labels in test_loader:\n",
        "            images, labels = images.to(device), labels.to(device)\n",
        "            outputs = model(images)\n",
        "            _, predicted = torch.max(outputs.data, 1)\n",
        "            y_true.extend(labels.cpu().numpy())\n",
        "            y_pred.extend(predicted.cpu().numpy())\n",
        "\n",
        "    metrics = {\n",
        "        'Accuracy': accuracy_score(y_true, y_pred),\n",
        "        'Precision': precision_score(y_true, y_pred, average='weighted'),\n",
        "        'Recall': recall_score(y_true, y_pred, average='weighted'),\n",
        "        'F1-Score': f1_score(y_true, y_pred, average='weighted')\n",
        "    }\n",
        "    return metrics"
      ],
      "metadata": {
        "id": "iZzO1aTL5uiH"
      },
      "execution_count": 30,
      "outputs": []
    },
    {
      "cell_type": "markdown",
      "source": [
        "**Train Fully Connected NN**"
      ],
      "metadata": {
        "id": "X4VAiBuJ53w_"
      }
    },
    {
      "cell_type": "code",
      "source": [
        "fc_model = FullyConnectedNN()\n",
        "fc_metrics = train_model(fc_model, train_loader, test_loader, epochs=10, lr=0.001)\n",
        "print(f\"Fully Connected NN Metrics:\\n{fc_metrics}\")"
      ],
      "metadata": {
        "colab": {
          "base_uri": "https://localhost:8080/"
        },
        "id": "KjsFlaqr51gn",
        "outputId": "83509ee2-78ca-4fff-f13c-ec793aef5493"
      },
      "execution_count": 31,
      "outputs": [
        {
          "output_type": "stream",
          "name": "stdout",
          "text": [
            "Epoch 1/10, Loss: 0.2111\n",
            "Epoch 2/10, Loss: 0.1813\n",
            "Epoch 3/10, Loss: 0.3034\n",
            "Epoch 4/10, Loss: 0.1034\n",
            "Epoch 5/10, Loss: 0.0244\n",
            "Epoch 6/10, Loss: 0.0840\n",
            "Epoch 7/10, Loss: 0.0091\n",
            "Epoch 8/10, Loss: 0.0013\n",
            "Epoch 9/10, Loss: 0.1513\n",
            "Epoch 10/10, Loss: 0.0586\n",
            "Fully Connected NN Metrics:\n",
            "{'Accuracy': 0.9706, 'Precision': 0.971236360011354, 'Recall': 0.9706, 'F1-Score': 0.970682611845632}\n"
          ]
        }
      ]
    },
    {
      "cell_type": "markdown",
      "source": [
        "**Train Simple CNN**"
      ],
      "metadata": {
        "id": "ra2kf5j8594g"
      }
    },
    {
      "cell_type": "code",
      "source": [
        "cnn_model = simpleCNN()\n",
        "cnn_metrics = train_model(cnn_model, train_loader, test_loader, epochs=15, lr=0.001)\n",
        "print(f\"Simple CNN Metrics:\\n{cnn_metrics}\")"
      ],
      "metadata": {
        "colab": {
          "base_uri": "https://localhost:8080/"
        },
        "id": "sqkLXiwg57qz",
        "outputId": "d8f7145b-fe81-4e22-ab8a-0fc613e34fba"
      },
      "execution_count": 32,
      "outputs": [
        {
          "output_type": "stream",
          "name": "stdout",
          "text": [
            "Epoch 1/15, Loss: 0.0157\n",
            "Epoch 2/15, Loss: 0.1461\n",
            "Epoch 3/15, Loss: 0.0009\n",
            "Epoch 4/15, Loss: 0.0353\n",
            "Epoch 5/15, Loss: 0.0055\n",
            "Epoch 6/15, Loss: 0.1816\n",
            "Epoch 7/15, Loss: 0.0865\n",
            "Epoch 8/15, Loss: 0.0028\n",
            "Epoch 9/15, Loss: 0.0084\n",
            "Epoch 10/15, Loss: 0.0027\n",
            "Epoch 11/15, Loss: 0.0024\n",
            "Epoch 12/15, Loss: 0.0170\n",
            "Epoch 13/15, Loss: 0.0002\n",
            "Epoch 14/15, Loss: 0.0018\n",
            "Epoch 15/15, Loss: 0.0001\n",
            "Simple CNN Metrics:\n",
            "{'Accuracy': 0.9865, 'Precision': 0.9865170329605009, 'Recall': 0.9865, 'F1-Score': 0.9865005376890643}\n"
          ]
        }
      ]
    },
    {
      "cell_type": "markdown",
      "source": [
        "**Comapre models**"
      ],
      "metadata": {
        "id": "B862rDs06Jw2"
      }
    },
    {
      "cell_type": "code",
      "source": [
        "# Comparison table\n",
        "comparison = pd.DataFrame({\n",
        "    'Model': ['Logistic Regression', 'Random Forest', 'Fully Connected NN', 'Simple CNN'],\n",
        "    'Accuracy': [lr_metrics['Accuracy'], rf_metrics['Accuracy'], fc_metrics['Accuracy'], cnn_metrics['Accuracy']],\n",
        "    'Precision': [lr_metrics['Precision'], rf_metrics['Precision'], fc_metrics['Precision'], cnn_metrics['Precision']],\n",
        "    'Recall': [lr_metrics['Recall'], rf_metrics['Recall'], fc_metrics['Recall'], cnn_metrics['Recall']],\n",
        "    'F1-Score': [lr_metrics['F1-Score'], rf_metrics['F1-Score'], fc_metrics['F1-Score'], cnn_metrics['F1-Score']]\n",
        "})\n",
        "\n",
        "print(\"Model Comparison:\")\n",
        "print(comparison)\n",
        "\n",
        "# Plot metrics\n",
        "comparison.set_index('Model').plot(kind='bar', figsize=(10, 6))\n",
        "plt.title('Model Metrics Comparison')\n",
        "plt.ylabel('Score')\n",
        "plt.xticks(rotation=0)\n",
        "plt.legend(loc='lower right')\n",
        "plt.show()"
      ],
      "metadata": {
        "colab": {
          "base_uri": "https://localhost:8080/",
          "height": 668
        },
        "id": "UKlaLXYw6CVU",
        "outputId": "487c14d6-c61e-409c-f8c3-e509a9c38053"
      },
      "execution_count": 33,
      "outputs": [
        {
          "output_type": "stream",
          "name": "stdout",
          "text": [
            "Model Comparison:\n",
            "                 Model  Accuracy  Precision  Recall  F1-Score\n",
            "0  Logistic Regression    0.9258   0.925587  0.9258  0.925622\n",
            "1        Random Forest    0.9705   0.970496  0.9705  0.970472\n",
            "2   Fully Connected NN    0.9706   0.971236  0.9706  0.970683\n",
            "3           Simple CNN    0.9865   0.986517  0.9865  0.986501\n"
          ]
        },
        {
          "output_type": "display_data",
          "data": {
            "text/plain": [
              "<Figure size 1000x600 with 1 Axes>"
            ],
            "image/png": "[encoded data removed]"
          },
          "metadata": {}
        }
      ]
    },
    {
      "cell_type": "markdown",
      "source": [
        "# 🔍 **Performance Comparison**\n",
        "\n",
        "As we observe, **Logistic Regression** shows the **least performance**, achieving around **92%** across all four metrics (accuracy, precision, recall, and F1-score). On the other hand, **Random Forest** and the **simple Fully Connected Neural Network (FCNN)** show **similar performance**, both reaching **97%** for all four metrics.\n",
        "\n",
        "However, in terms of **execution time**:\n",
        "- **Random Forest** took approximately **42 seconds**.\n",
        "- **FCNN** took about **2 minutes**.\n",
        "\n",
        "Given this, we can conclude that **Random Forest** is the most efficient among these three models in terms of execution time.\n",
        "\n",
        "---\n",
        "\n",
        "# 🏆 **CNN Performance**\n",
        "\n",
        "Nevertheless, the **simple Convolutional Neural Network (CNN)** outperforms all the previous models, achieving an impressive **98.6%** across all four metrics. This highlights the potential of **Neural Networks** to surpass traditional **Machine Learning models**, even with a relatively simple architecture and a small number of parameters.\n",
        "\n",
        "Furthermore, this demonstrates that **CNNs** are more effective at **extracting features from images** compared to **FCNNs**, which rely on fully connected layers and are not as specialized for image data.\n",
        "\n",
        "---\n",
        "\n",
        "# 🧑‍💻 **Model Architectures: FCNN vs CNN**\n",
        "\n",
        "The architectures used for both the **Fully Connected Neural Network (FCNN)** and the **simple Convolutional Neural Network (CNN)** are relatively simple:\n",
        "\n",
        "- The **FCNN** consists of fully connected layers that flatten the image and process it through only 3 linear layers.\n",
        "- The **simple CNN** includes a single convolutional layer followed by pooling and two fully connected layers, which are better at extracting features from images.\n",
        "\n",
        "These architectures demonstrate how even simple CNNs can outperform FCNNs due to their ability to capture spatial hierarchies in image data.\n"
      ],
      "metadata": {
        "id": "JOIqMvl4H8Fp"
      }
    },
    {
      "cell_type": "markdown",
      "source": [
        "**Try a more complex CNN**"
      ],
      "metadata": {
        "id": "uTpMF-sFDNNx"
      }
    },
    {
      "cell_type": "code",
      "source": [
        "class complexCNN(nn.Module):\n",
        "    def __init__(self):\n",
        "        super(complexCNN, self).__init__()\n",
        "        self.cnn = nn.Sequential(\n",
        "            nn.Conv2d(1, 32, kernel_size=3),\n",
        "            nn.ReLU(),\n",
        "            nn.MaxPool2d(2),\n",
        "            nn.Conv2d(32, 64, kernel_size=3),\n",
        "            nn.ReLU(),\n",
        "            nn.MaxPool2d(2),\n",
        "            nn.Flatten(),\n",
        "            nn.Linear(64*5*5, 128),\n",
        "            nn.ReLU(),\n",
        "            nn.Dropout(0.5),\n",
        "            nn.Linear(128, 10)\n",
        "        )\n",
        "\n",
        "    def forward(self, x):\n",
        "        return self.cnn(x)"
      ],
      "metadata": {
        "id": "aItGF5xTDSSo"
      },
      "execution_count": 34,
      "outputs": []
    },
    {
      "cell_type": "code",
      "source": [
        "cnn_model = complexCNN()\n",
        "cnn_metrics = train_model(cnn_model, train_loader, test_loader, epochs=15, lr=0.001)\n",
        "print(f\"Complex CNN Metrics:\\n{cnn_metrics}\")"
      ],
      "metadata": {
        "colab": {
          "base_uri": "https://localhost:8080/"
        },
        "id": "GOs1s7avFl0D",
        "outputId": "63e97591-d175-4a53-c5e5-cd6cf9a1b6b7"
      },
      "execution_count": 35,
      "outputs": [
        {
          "output_type": "stream",
          "name": "stdout",
          "text": [
            "Epoch 1/15, Loss: 0.1366\n",
            "Epoch 2/15, Loss: 0.0462\n",
            "Epoch 3/15, Loss: 0.0700\n",
            "Epoch 4/15, Loss: 0.0532\n",
            "Epoch 5/15, Loss: 0.0318\n",
            "Epoch 6/15, Loss: 0.0543\n",
            "Epoch 7/15, Loss: 0.0309\n",
            "Epoch 8/15, Loss: 0.0039\n",
            "Epoch 9/15, Loss: 0.0405\n",
            "Epoch 10/15, Loss: 0.0004\n",
            "Epoch 11/15, Loss: 0.0060\n",
            "Epoch 12/15, Loss: 0.0686\n",
            "Epoch 13/15, Loss: 0.0061\n",
            "Epoch 14/15, Loss: 0.0785\n",
            "Epoch 15/15, Loss: 0.0013\n",
            "Complex CNN Metrics:\n",
            "{'Accuracy': 0.9936, 'Precision': 0.9936162617454558, 'Recall': 0.9936, 'F1-Score': 0.9935997255035233}\n"
          ]
        }
      ]
    },
    {
      "cell_type": "markdown",
      "source": [
        "# 🚀 **Impressive Improvement with a Single Convolutional Layer**\n",
        "\n",
        "It's impressive that by simply adding **one convolutional layer**, followed by **pooling**, we were able to outperform the **simple CNN** by **0.6%**, achieving a performance of **99.3%**.\n",
        "\n",
        "While the gap may not seem large, it is still **considerable**, especially since we are already achieving very high performance. At this point, further improvements are harder to come by, making this gain even more noteworthy.\n"
      ],
      "metadata": {
        "id": "2BJtdjj-JtPK"
      }
    },
    {
      "cell_type": "markdown",
      "source": [
        "**Learning Rate Experimentation with CNN**"
      ],
      "metadata": {
        "id": "fL_rguIl7kJ6"
      }
    },
    {
      "cell_type": "code",
      "source": [
        "# Define function to train CNN with different learning rates\n",
        "def train_cnn_with_lr(lr, epochs=15):\n",
        "    model = complexCNN().to(device)  # Initialize a new CNN for each experiment\n",
        "    criterion = nn.CrossEntropyLoss(label_smoothing=0.01)\n",
        "    optimizer = optim.Adam(model.parameters(), lr=lr)\n",
        "\n",
        "    train_losses = []\n",
        "    for epoch in range(epochs):\n",
        "        model.train()\n",
        "        epoch_loss = 0\n",
        "        for images, labels in train_loader:\n",
        "            images, labels = images.to(device), labels.to(device)\n",
        "\n",
        "            # Forward pass\n",
        "            outputs = model(images)\n",
        "            loss = criterion(outputs, labels)\n",
        "\n",
        "            # Backward pass\n",
        "            optimizer.zero_grad()\n",
        "            loss.backward()\n",
        "            optimizer.step()\n",
        "\n",
        "            epoch_loss += loss.item()\n",
        "        avg_loss = epoch_loss / len(train_loader)\n",
        "        train_losses.append(avg_loss)\n",
        "        print(f\"Learning Rate: {lr}, Epoch {epoch+1}/{epochs}, Loss: {avg_loss:.4f}\")\n",
        "\n",
        "    return train_losses\n",
        "\n",
        "# Experiment with different learning rates\n",
        "learning_rates = [0.1, 0.01, 0.001, 1e-4, 1e-5]\n",
        "results = {}\n",
        "\n",
        "for lr in learning_rates:\n",
        "    print(f\"\\nTraining with learning rate: {lr}\")\n",
        "    results[lr] = train_cnn_with_lr(lr)\n",
        "\n",
        "# Plot results\n",
        "plt.figure(figsize=(10, 6))\n",
        "for lr, losses in results.items():\n",
        "    plt.plot(losses, label=f\"LR: {lr}\")\n",
        "plt.title(\"Training Loss vs Epochs for Different Learning Rates\")\n",
        "plt.xlabel(\"Epochs\")\n",
        "plt.ylabel(\"Loss\")\n",
        "plt.legend()\n",
        "plt.grid(True)\n",
        "plt.show()"
      ],
      "metadata": {
        "colab": {
          "base_uri": "https://localhost:8080/",
          "height": 1000
        },
        "id": "juxxwYpW7fpt",
        "outputId": "ab2f0d4c-25ad-4577-cd1c-9110125786b6"
      },
      "execution_count": 38,
      "outputs": [
        {
          "output_type": "stream",
          "name": "stdout",
          "text": [
            "\n",
            "Training with learning rate: 0.1\n",
            "Learning Rate: 0.1, Epoch 1/15, Loss: 4.1256\n",
            "Learning Rate: 0.1, Epoch 2/15, Loss: 2.3094\n",
            "Learning Rate: 0.1, Epoch 3/15, Loss: 2.3107\n",
            "Learning Rate: 0.1, Epoch 4/15, Loss: 2.3102\n",
            "Learning Rate: 0.1, Epoch 5/15, Loss: 2.3106\n",
            "Learning Rate: 0.1, Epoch 6/15, Loss: 2.3100\n",
            "Learning Rate: 0.1, Epoch 7/15, Loss: 2.3101\n",
            "Learning Rate: 0.1, Epoch 8/15, Loss: 2.3100\n",
            "Learning Rate: 0.1, Epoch 9/15, Loss: 2.3100\n",
            "Learning Rate: 0.1, Epoch 10/15, Loss: 2.3103\n",
            "Learning Rate: 0.1, Epoch 11/15, Loss: 2.3102\n",
            "Learning Rate: 0.1, Epoch 12/15, Loss: 2.3097\n",
            "Learning Rate: 0.1, Epoch 13/15, Loss: 2.3105\n",
            "Learning Rate: 0.1, Epoch 14/15, Loss: 2.3104\n",
            "Learning Rate: 0.1, Epoch 15/15, Loss: 2.3106\n",
            "\n",
            "Training with learning rate: 0.01\n",
            "Learning Rate: 0.01, Epoch 1/15, Loss: 0.4074\n",
            "Learning Rate: 0.01, Epoch 2/15, Loss: 0.2922\n",
            "Learning Rate: 0.01, Epoch 3/15, Loss: 0.2792\n",
            "Learning Rate: 0.01, Epoch 4/15, Loss: 0.2746\n",
            "Learning Rate: 0.01, Epoch 5/15, Loss: 0.2714\n",
            "Learning Rate: 0.01, Epoch 6/15, Loss: 0.2692\n",
            "Learning Rate: 0.01, Epoch 7/15, Loss: 0.2637\n",
            "Learning Rate: 0.01, Epoch 8/15, Loss: 0.2657\n",
            "Learning Rate: 0.01, Epoch 9/15, Loss: 0.2669\n",
            "Learning Rate: 0.01, Epoch 10/15, Loss: 0.2638\n",
            "Learning Rate: 0.01, Epoch 11/15, Loss: 0.2633\n",
            "Learning Rate: 0.01, Epoch 12/15, Loss: 0.2607\n",
            "Learning Rate: 0.01, Epoch 13/15, Loss: 0.2545\n",
            "Learning Rate: 0.01, Epoch 14/15, Loss: 0.2552\n",
            "Learning Rate: 0.01, Epoch 15/15, Loss: 0.2563\n",
            "\n",
            "Training with learning rate: 0.001\n",
            "Learning Rate: 0.001, Epoch 1/15, Loss: 0.3577\n",
            "Learning Rate: 0.001, Epoch 2/15, Loss: 0.1934\n",
            "Learning Rate: 0.001, Epoch 3/15, Loss: 0.1689\n",
            "Learning Rate: 0.001, Epoch 4/15, Loss: 0.1558\n",
            "Learning Rate: 0.001, Epoch 5/15, Loss: 0.1468\n",
            "Learning Rate: 0.001, Epoch 6/15, Loss: 0.1410\n",
            "Learning Rate: 0.001, Epoch 7/15, Loss: 0.1352\n",
            "Learning Rate: 0.001, Epoch 8/15, Loss: 0.1310\n",
            "Learning Rate: 0.001, Epoch 9/15, Loss: 0.1277\n",
            "Learning Rate: 0.001, Epoch 10/15, Loss: 0.1234\n",
            "Learning Rate: 0.001, Epoch 11/15, Loss: 0.1199\n",
            "Learning Rate: 0.001, Epoch 12/15, Loss: 0.1202\n",
            "Learning Rate: 0.001, Epoch 13/15, Loss: 0.1165\n",
            "Learning Rate: 0.001, Epoch 14/15, Loss: 0.1154\n",
            "Learning Rate: 0.001, Epoch 15/15, Loss: 0.1143\n",
            "\n",
            "Training with learning rate: 0.0001\n",
            "Learning Rate: 0.0001, Epoch 1/15, Loss: 0.7633\n",
            "Learning Rate: 0.0001, Epoch 2/15, Loss: 0.2977\n",
            "Learning Rate: 0.0001, Epoch 3/15, Loss: 0.2356\n",
            "Learning Rate: 0.0001, Epoch 4/15, Loss: 0.2068\n",
            "Learning Rate: 0.0001, Epoch 5/15, Loss: 0.1908\n",
            "Learning Rate: 0.0001, Epoch 6/15, Loss: 0.1794\n",
            "Learning Rate: 0.0001, Epoch 7/15, Loss: 0.1739\n",
            "Learning Rate: 0.0001, Epoch 8/15, Loss: 0.1650\n",
            "Learning Rate: 0.0001, Epoch 9/15, Loss: 0.1590\n",
            "Learning Rate: 0.0001, Epoch 10/15, Loss: 0.1545\n",
            "Learning Rate: 0.0001, Epoch 11/15, Loss: 0.1516\n",
            "Learning Rate: 0.0001, Epoch 12/15, Loss: 0.1465\n",
            "Learning Rate: 0.0001, Epoch 13/15, Loss: 0.1455\n",
            "Learning Rate: 0.0001, Epoch 14/15, Loss: 0.1422\n",
            "Learning Rate: 0.0001, Epoch 15/15, Loss: 0.1402\n",
            "\n",
            "Training with learning rate: 1e-05\n",
            "Learning Rate: 1e-05, Epoch 1/15, Loss: 1.8532\n",
            "Learning Rate: 1e-05, Epoch 2/15, Loss: 0.9546\n",
            "Learning Rate: 1e-05, Epoch 3/15, Loss: 0.6569\n",
            "Learning Rate: 1e-05, Epoch 4/15, Loss: 0.5363\n",
            "Learning Rate: 1e-05, Epoch 5/15, Loss: 0.4677\n",
            "Learning Rate: 1e-05, Epoch 6/15, Loss: 0.4151\n",
            "Learning Rate: 1e-05, Epoch 7/15, Loss: 0.3803\n",
            "Learning Rate: 1e-05, Epoch 8/15, Loss: 0.3499\n",
            "Learning Rate: 1e-05, Epoch 9/15, Loss: 0.3286\n",
            "Learning Rate: 1e-05, Epoch 10/15, Loss: 0.3093\n",
            "Learning Rate: 1e-05, Epoch 11/15, Loss: 0.2928\n",
            "Learning Rate: 1e-05, Epoch 12/15, Loss: 0.2781\n",
            "Learning Rate: 1e-05, Epoch 13/15, Loss: 0.2663\n",
            "Learning Rate: 1e-05, Epoch 14/15, Loss: 0.2530\n",
            "Learning Rate: 1e-05, Epoch 15/15, Loss: 0.2471\n"
          ]
        },
        {
          "output_type": "display_data",
          "data": {
            "text/plain": [
              "<Figure size 1000x600 with 1 Axes>"
            ],
            "image/png": "[encoded data removed]"
          },
          "metadata": {}
        }
      ]
    },
    {
      "cell_type": "markdown",
      "source": [
        "# 🔍 **Learning Rate Experimentation**\n",
        "\n",
        "As we observe here, for a learning rate **$lr=0.1$**, even though it's not arbitrarily high, the loss decreases until it stabilizes around **2.3**, indicating **no convergence**.\n",
        "\n",
        "For learning rates **$lr \\in \\{ 1e-k \\quad; \\quad k = 2,3,4,5 \\}$**, convergence is achieved. However, in terms of speed:\n",
        "- The convergence is **fastest** at **$lr=0.01$**, followed by **$lr=0.001$**.\n",
        "- As we reduce the learning rate further (to **$lr=1e-4$** and **$lr=1e-5$**), convergence slows down because smaller learning rates result in smaller steps in the **Stochastic Gradient Descent (SGD)** algorithm.\n",
        "\n",
        "To conclude, the **best learning rate** for this setup is **$lr = 1e-3$**."
      ],
      "metadata": {
        "id": "lsfNoiXPQNIY"
      }
    }
  ]
}